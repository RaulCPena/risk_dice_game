{
 "cells": [
  {
   "cell_type": "markdown",
   "metadata": {},
   "source": [
    "# Creating a risk dice roller game"
   ]
  },
  {
   "cell_type": "code",
   "execution_count": null,
   "metadata": {},
   "outputs": [],
   "source": [
    "from random import randint\n",
    "import time\n",
    "\n",
    "# Syntax for randint\n",
    "# random.randint(start, stop)\n",
    "\n",
    "# Syntax for time\n",
    "# time.sleep(secs)\n",
    "\n"
   ]
  },
  {
   "cell_type": "markdown",
   "metadata": {},
   "source": [
    "# Inputs "
   ]
  },
  {
   "cell_type": "code",
   "execution_count": null,
   "metadata": {},
   "outputs": [],
   "source": [
    "# First input is the number of attacking units\n",
    "    # Second input is the number of defending units\n",
    "        # Third input is the number of units the attacker is willing to lose before they call the game\n",
    "\n",
    "messages = [\n",
    "    \"Enter number of attackers: \",\n",
    "    \"Enter number of defenders: \",\n",
    "    \"How many attackers are you willing to lose: \"\n",
    "]"
   ]
  },
  {
   "cell_type": "code",
   "execution_count": null,
   "metadata": {},
   "outputs": [],
   "source": [
    "a = int(input(messages[0]))\n",
    "b = int(input(messages[1]))\n",
    "c = int(input(messages[2]))\n",
    "\n",
    "for people, rolls in (\"attackers\", 3), (\"defender\", 2):\n",
    "exec(f\"num_of{people}) = [randint(1, 6) for i in range({rolls})].sort(reverse = True)\n",
    "print(num_of_attackers, num_of_defenders)"
   ]
  },
  {
   "cell_type": "markdown",
   "metadata": {},
   "source": [
    "# Outputs"
   ]
  },
  {
   "cell_type": "code",
   "execution_count": null,
   "metadata": {},
   "outputs": [],
   "source": []
  },
  {
   "cell_type": "code",
   "execution_count": null,
   "metadata": {},
   "outputs": [],
   "source": [
    "# Output expected\n",
    "# 1. The number of attackers remaining after the battle\n",
    "# 2. The number of defenders after the battle\n",
    "\n"
   ]
  },
  {
   "cell_type": "code",
   "execution_count": 1,
   "metadata": {},
   "outputs": [
    {
     "ename": "SyntaxError",
     "evalue": "invalid syntax (<ipython-input-1-26d3d8df3342>, line 11)",
     "output_type": "error",
     "traceback": [
      "\u001b[0;36m  File \u001b[0;32m\"<ipython-input-1-26d3d8df3342>\"\u001b[0;36m, line \u001b[0;32m11\u001b[0m\n\u001b[0;31m    elif (a == 2 and b >=2) and ((a-c) >= c):\u001b[0m\n\u001b[0m       ^\u001b[0m\n\u001b[0;31mSyntaxError\u001b[0m\u001b[0;31m:\u001b[0m invalid syntax\n"
     ]
    }
   ],
   "source": [
    "import random\n",
    "a  = int(input(\"Enter number of attackers: \"))\n",
    "b  = int(input(\"Enter number of defenders: \"))\n",
    "c = int(input(\"How many attackers are you willing to lose? \"))\n",
    "\n",
    "print(\"Test\")\n",
    "if (a >= 3 and b >=2) and ((a-c) >= c):\n",
    "    Attacker_Rolls = 3\n",
    "    Defender_Rolls = 2\n",
    "print(\"Test\")\n",
    "elif (a == 2 and b >=2) and ((a-c) >= c):\n",
    "    Attacker_Rolls = 2\n",
    "    Defender_Rolls = 2\n",
    "print(\"Test\")\n",
    "elif (a == 1 and b >=2) and ((a-c) >= c):\n",
    "    Attacker_Rolls = 1\n",
    "    Defender_Rolls = 2\n",
    "print(\"Test\")\n",
    "elif (a >= 3 and b == 1 ) and ((a-c) >= c):\n",
    "    Attacker_Rolls = 3\n",
    "    Defender_Rolls = 1\n",
    "print(\"Test\")\n",
    "elif (a == 2 and b == 1 ) and ((a-c) >= c):\n",
    "    Attacker_Rolls = 2\n",
    "    Defender_Rolls = 1\n",
    "print(\"Test\")\n",
    "elif (a == 1 and b == 1 ) and ((a-c) >= c):\n",
    "    Attacker_Rolls = 1\n",
    "    Defender_Rolls = 1\n",
    "print(\"Test\")\n",
    "    \n",
    "num_of_attackers = [random.randint(1, 6) for i in range(Attacker_Rolls)]\n",
    "num_of_attackers.sort(reverse=True)\n",
    "num_of_defenders = [random.randint(1,6) for i in range(Defender_Rolls)]\n",
    "num_of_defenders.sort(reverse=True)\n",
    "print(num_of_attackers, num_of_defenders)\n",
    "while len(num_of_attackers) > 0 and len(num_of_defenders) > 0:\n",
    "    if num_of_attackers == c:\n",
    "            print(\"The attacker has ended the game!\")\n",
    "    elif num_of_attackers.pop(0) >= num_of_defenders.pop(0):\n",
    "            Remaining_Attackers = a\n",
    "            Remaining_Defenders = b - 1\n",
    "            print(\"The attacker has won!\")\n",
    "            print(Remaining_Attackers, Remaining_Defenders)\n",
    "    else:\n",
    "            Remaining_Attackers = a - 1\n",
    "            Remaining_Defenders = b\n",
    "            print(\"The defender has won!\")\n",
    "            print(Remaining_Attackers, Remaining_Defenders)"
   ]
  },
  {
   "cell_type": "code",
   "execution_count": null,
   "metadata": {},
   "outputs": [],
   "source": [
    "def attackers(units):\n",
    "    if units >= 3:\n",
    "        dice = [roll_dice(), roll_dice(), roll_dice()]\n",
    "    elif units == 2:\n",
    "        dice = [roll_dice(), roll_dice()]\n",
    "    else:\n",
    "        dice = [roll_dice()]\n",
    "    \n",
    "    return sorted(dice, reverse = True)"
   ]
  },
  {
   "cell_type": "code",
   "execution_count": null,
   "metadata": {},
   "outputs": [],
   "source": [
    "def defenders(units):\n",
    "    if units >= 2:\n",
    "        dice = [roll_dice(), roll_dice()]\n",
    "    else:\n",
    "        dice = [roll_dice()]\n",
    "    \n",
    "    return sorted(dice, reverse = True)"
   ]
  },
  {
   "cell_type": "code",
   "execution_count": null,
   "metadata": {},
   "outputs": [],
   "source": [
    "\n",
    "while len(attackers) > 0 and len(defenders) > 0:\n",
    "    if attackers == '':\n",
    "        print(\"The attacker has ended the game!\")\n",
    "    elif num_of_attackers.pop(0) >= num_of_defenders.pop(0):\n",
    "        Remaining_Attackers = a\n",
    "        Remaining_Defenders = b - 1\n",
    "        print(\"The attacker has won!\")\n",
    "        print(Remaining_Attackers, Remaining_Defenders)\n",
    "    else:\n",
    "        Remaining_Attackers = a - 1\n",
    "        Remaining_Defenders = b\n",
    "        print(\"The defender has won!\")\n",
    "        print(Remaining_Attackers, Remaining_Defenders)"
   ]
  },
  {
   "cell_type": "code",
   "execution_count": null,
   "metadata": {},
   "outputs": [],
   "source": []
  },
  {
   "cell_type": "code",
   "execution_count": null,
   "metadata": {},
   "outputs": [],
   "source": []
  }
 ],
 "metadata": {
  "kernelspec": {
   "display_name": "Python 3",
   "language": "python",
   "name": "python3"
  },
  "language_info": {
   "codemirror_mode": {
    "name": "ipython",
    "version": 3
   },
   "file_extension": ".py",
   "mimetype": "text/x-python",
   "name": "python",
   "nbconvert_exporter": "python",
   "pygments_lexer": "ipython3",
   "version": "3.7.7"
  }
 },
 "nbformat": 4,
 "nbformat_minor": 4
}
